{
 "cells": [
  {
   "cell_type": "markdown",
   "metadata": {},
   "source": [
    "# Import the packages required"
   ]
  },
  {
   "cell_type": "code",
   "execution_count": 45,
   "metadata": {},
   "outputs": [],
   "source": [
    "import pandas as pd\n",
    "import numpy as np\n",
    "import torch\n",
    "import torch.nn as nn\n",
    "import torch.optim as optim\n",
    "import random\n",
    "from sklearn.model_selection import train_test_split"
   ]
  },
  {
   "cell_type": "markdown",
   "metadata": {},
   "source": [
    "# Data import and processing"
   ]
  },
  {
   "cell_type": "code",
   "execution_count": 20,
   "metadata": {},
   "outputs": [],
   "source": [
    "#Data for training\n",
    "df_combined=pd.read_excel('/home/kamal/Desktop/CAI-2024/DatasetUsed/combined_without_DAB.xlsx')\n",
    "\n",
    "# Separate the features and labels\n",
    "X = df_combined[['A1', 'A2', 'A3', 'A4', 'A5', 'A6', 'A7', 'A8', 'A9', 'A10', 'A11', 'A12', 'A13', 'A14', 'A15', 'A16', 'A17', 'A18', 'A19', 'A20', 'A21', 'A22', 'A23', 'A24', 'A25', 'A26', 'A27', 'A28', 'A29', 'A30','C']\n",
    "].values\n",
    "y = df_combined[['S1', 'S2', 'S3', 'S4', 'S5', 'S6', 'S7', 'S8', 'S9', 'S10']].values\n",
    "\n",
    "# Split the data into training and testing sets\n",
    "X_train, X_test, y_train, y_test = train_test_split(X, y, test_size=0.2, random_state=42)\n",
    "\n",
    "# Convert data to PyTorch tensors\n",
    "X_train = torch.tensor(X_train, dtype=torch.float32)\n",
    "y_train = torch.tensor(y_train, dtype=torch.float32)\n",
    "X_test = torch.tensor(X_test, dtype=torch.float32)\n",
    "y_test = torch.tensor(y_test, dtype=torch.float32)"
   ]
  },
  {
   "cell_type": "markdown",
   "metadata": {},
   "source": [
    "# Defining and trainig and saving the model"
   ]
  },
  {
   "cell_type": "code",
   "execution_count": 21,
   "metadata": {},
   "outputs": [
    {
     "name": "stderr",
     "output_type": "stream",
     "text": [
      "/home/kamal/Desktop/CAI-2024/CAIvenv/lib/python3.11/site-packages/torch/autograd/__init__.py:251: UserWarning: CUDA initialization: The NVIDIA driver on your system is too old (found version 11060). Please update your GPU driver by downloading and installing a new version from the URL: http://www.nvidia.com/Download/index.aspx Alternatively, go to: https://pytorch.org to install a PyTorch version that has been compiled with your version of the CUDA driver. (Triggered internally at ../c10/cuda/CUDAFunctions.cpp:108.)\n",
      "  Variable._execution_engine.run_backward(  # Calls into the C++ engine to run the backward pass\n"
     ]
    },
    {
     "name": "stdout",
     "output_type": "stream",
     "text": [
      "Epoch [1/20], Loss: 0.21862471103668213\n",
      "Epoch [2/20], Loss: 0.12715193629264832\n",
      "Epoch [3/20], Loss: 0.10837478935718536\n",
      "Epoch [4/20], Loss: 0.11375802755355835\n",
      "Epoch [5/20], Loss: 0.09141808748245239\n",
      "Epoch [6/20], Loss: 0.0860246792435646\n",
      "Epoch [7/20], Loss: 0.08070440590381622\n",
      "Epoch [8/20], Loss: 0.07692184299230576\n",
      "Epoch [9/20], Loss: 0.07447082549333572\n",
      "Epoch [10/20], Loss: 0.07210058718919754\n",
      "Epoch [11/20], Loss: 0.06982029974460602\n",
      "Epoch [12/20], Loss: 0.06919857114553452\n",
      "Epoch [13/20], Loss: 0.06840948760509491\n",
      "Epoch [14/20], Loss: 0.06703807413578033\n",
      "Epoch [15/20], Loss: 0.06690024584531784\n",
      "Epoch [16/20], Loss: 0.06509359925985336\n",
      "Epoch [17/20], Loss: 0.06390447169542313\n",
      "Epoch [18/20], Loss: 0.06288173794746399\n",
      "Epoch [19/20], Loss: 0.06207366660237312\n",
      "Epoch [20/20], Loss: 0.06032109260559082\n",
      "Test Loss: 0.10118056833744049\n"
     ]
    }
   ],
   "source": [
    "# Define the neural network model\n",
    "class NeuralNet(nn.Module):\n",
    "    def __init__(self):\n",
    "        super(NeuralNet, self).__init__()\n",
    "        self.fc1 = nn.Linear(31, 64)\n",
    "        self.fc2 = nn.Linear(64, 64)\n",
    "        self.output_layer = nn.ModuleList([nn.Linear(64, 1) for _ in range(10)])\n",
    "\n",
    "    def forward(self, x):\n",
    "        x = torch.relu(self.fc1(x))\n",
    "        x = torch.relu(self.fc2(x))\n",
    "        outputs = [layer(x) for layer in self.output_layer]\n",
    "        return torch.cat(outputs, dim=1)\n",
    "\n",
    "# Create the model\n",
    "model = NeuralNet()\n",
    "\n",
    "# Define the loss function and optimizer\n",
    "criterion = nn.MSELoss()\n",
    "optimizer = optim.Adam(model.parameters(), lr=0.01)\n",
    "\n",
    "# Training loop\n",
    "num_epochs = 20  #\n",
    "batch_size = 32\n",
    "num_batches = len(X_train) // batch_size\n",
    "\n",
    "# Set the random seed for reproducibility\n",
    "seed = 42\n",
    "torch.manual_seed(seed)\n",
    "np.random.seed(seed)\n",
    "for epoch in range(num_epochs):\n",
    "    for i in range(num_batches):\n",
    "        # Mini-batch data\n",
    "        start_idx = i * batch_size\n",
    "        end_idx = (i + 1) * batch_size\n",
    "        inputs = X_train[start_idx:end_idx]\n",
    "        labels = y_train[start_idx:end_idx]\n",
    "\n",
    "\n",
    "        # Forward pass\n",
    "        outputs = model(inputs)\n",
    "\n",
    "        loss = criterion(outputs, labels)\n",
    "\n",
    "        # Backward and optimize\n",
    "        optimizer.zero_grad()\n",
    "        loss.backward()\n",
    "        optimizer.step()\n",
    "\n",
    "    print(f'Epoch [{epoch+1}/{num_epochs}], Loss: {loss.item()}')\n",
    "\n",
    "# Evaluation\n",
    "with torch.no_grad():\n",
    "    test_outputs = model(X_test)\n",
    "    test_loss = criterion(test_outputs, y_test)\n",
    "    print(f'Test Loss: {test_loss.item()}')\n",
    "\n",
    "\n",
    "torch.save(model.state_dict(), \"/home/kamal/Desktop/CAI-2024/models/model_new_20.pth\")"
   ]
  },
  {
   "cell_type": "markdown",
   "metadata": {},
   "source": [
    "# Loading and testing the saved model"
   ]
  },
  {
   "cell_type": "code",
   "execution_count": 89,
   "metadata": {},
   "outputs": [],
   "source": [
    "def load_and_test_model():\n",
    "    # Create an instance of the Neural Network\n",
    "    model = NeuralNet()\n",
    "\n",
    "    # Load the saved model\n",
    "    model.load_state_dict(torch.load(\"/home/kamal/Desktop/CAI-2024/models/model_5.pth\"))\n",
    "\n",
    "    # Test dataset\n",
    "    df_DAB = pd.read_excel('/home/kamal/Desktop/CAI-2024/DatasetUsed/DAB.xlsx')\n",
    "\n",
    "    i=0\n",
    "    hoursBetweenDeparture=1\n",
    "    output_list=[] # This list will contain the list of the selected airports represented by 1s and 0s\n",
    "    for i in range(0, 24, hoursBetweenDeparture):\n",
    "      # Select the first row of the DataFrame and convert it to a tensor\n",
    "      first_row = df_DAB.iloc[i, :31].values  # Selecting the first row as a NumPy array\n",
    "      tensor_first_row = torch.tensor([first_row.tolist()], dtype=torch.float32)\n",
    "      with torch.no_grad():\n",
    "          output = model(tensor_first_row)\n",
    "          output = torch.where(output < 0.5, torch.tensor(0.0), torch.tensor(1.0))  #output\n",
    "          output_list.append(output.flatten().tolist())\n",
    "    return output_list\n",
    "\n",
    "output_list=load_and_test_model()"
   ]
  },
  {
   "cell_type": "code",
   "execution_count": 90,
   "metadata": {},
   "outputs": [
    {
     "data": {
      "text/plain": [
       "[[1.0, 1.0, 1.0, 1.0, 1.0, 1.0, 1.0, 1.0, 1.0, 0.0],\n",
       " [1.0, 1.0, 1.0, 1.0, 1.0, 1.0, 1.0, 1.0, 1.0, 0.0],\n",
       " [1.0, 1.0, 1.0, 1.0, 1.0, 1.0, 1.0, 1.0, 1.0, 0.0],\n",
       " [1.0, 1.0, 1.0, 1.0, 1.0, 1.0, 1.0, 1.0, 1.0, 0.0],\n",
       " [1.0, 1.0, 1.0, 1.0, 1.0, 1.0, 1.0, 1.0, 1.0, 0.0],\n",
       " [1.0, 1.0, 1.0, 1.0, 1.0, 1.0, 1.0, 1.0, 1.0, 0.0],\n",
       " [1.0, 1.0, 1.0, 1.0, 1.0, 1.0, 0.0, 0.0, 0.0, 0.0],\n",
       " [1.0, 1.0, 1.0, 1.0, 1.0, 0.0, 0.0, 0.0, 0.0, 0.0],\n",
       " [1.0, 1.0, 1.0, 1.0, 1.0, 0.0, 0.0, 0.0, 0.0, 0.0],\n",
       " [1.0, 1.0, 1.0, 1.0, 1.0, 0.0, 0.0, 0.0, 0.0, 0.0],\n",
       " [1.0, 1.0, 1.0, 1.0, 1.0, 1.0, 0.0, 0.0, 0.0, 0.0],\n",
       " [1.0, 1.0, 1.0, 1.0, 1.0, 1.0, 0.0, 0.0, 0.0, 0.0],\n",
       " [1.0, 1.0, 1.0, 1.0, 1.0, 1.0, 0.0, 0.0, 0.0, 0.0],\n",
       " [1.0, 1.0, 1.0, 1.0, 1.0, 1.0, 0.0, 0.0, 0.0, 0.0],\n",
       " [1.0, 1.0, 1.0, 1.0, 1.0, 1.0, 0.0, 0.0, 0.0, 0.0],\n",
       " [1.0, 1.0, 1.0, 1.0, 1.0, 1.0, 0.0, 0.0, 0.0, 0.0],\n",
       " [1.0, 1.0, 1.0, 1.0, 1.0, 1.0, 0.0, 0.0, 0.0, 0.0],\n",
       " [1.0, 1.0, 1.0, 1.0, 1.0, 0.0, 0.0, 0.0, 0.0, 0.0],\n",
       " [1.0, 1.0, 1.0, 1.0, 1.0, 0.0, 0.0, 0.0, 0.0, 0.0],\n",
       " [1.0, 1.0, 1.0, 1.0, 1.0, 0.0, 0.0, 0.0, 0.0, 0.0],\n",
       " [1.0, 1.0, 1.0, 1.0, 1.0, 0.0, 0.0, 0.0, 0.0, 0.0],\n",
       " [1.0, 1.0, 1.0, 1.0, 1.0, 0.0, 0.0, 0.0, 0.0, 0.0],\n",
       " [1.0, 1.0, 1.0, 1.0, 1.0, 1.0, 1.0, 0.0, 0.0, 0.0],\n",
       " [1.0, 1.0, 1.0, 1.0, 1.0, 1.0, 1.0, 0.0, 0.0, 0.0]]"
      ]
     },
     "execution_count": 90,
     "metadata": {},
     "output_type": "execute_result"
    }
   ],
   "source": [
    "output_list"
   ]
  },
  {
   "cell_type": "markdown",
   "metadata": {},
   "source": [
    "# Analysing the result obtained"
   ]
  },
  {
   "cell_type": "markdown",
   "metadata": {},
   "source": [
    "Importing the necessary functions and datasets for analysis"
   ]
  },
  {
   "cell_type": "code",
   "execution_count": 60,
   "metadata": {},
   "outputs": [],
   "source": [
    "df_LookupTable = pd.read_excel('/home/kamal/Desktop/CAI-2024/DatasetUsed/FinalLookupTable.xlsx')\n",
    "df_Citypair = pd.read_excel('/home/kamal/Desktop/CAI-2024/DatasetUsed/CityPair.xlsx')\n",
    "#df_Citypair only contain the departure and arrival hour we need to find the duration of the flight"
   ]
  },
  {
   "cell_type": "code",
   "execution_count": 61,
   "metadata": {},
   "outputs": [],
   "source": [
    "# Calculate TimeOfFlight\n",
    "df_Citypair['TimeOfFlight'] = df_Citypair.apply(lambda row: (row['Arrival Hour'] - row['Departure Hour'] + 24) if (row['Arrival Hour'] - row['Departure Hour']) < 0 else (row['Arrival Hour'] - row['Departure Hour']), axis=1)\n",
    "\n",
    "# Dropping the extra unused columns for making dataframe simple\n",
    "df_flightTime = df_Citypair.drop([\"Date\",\"Departure Hour\", \"Arrival Hour\"], axis=1)"
   ]
  },
  {
   "cell_type": "code",
   "execution_count": 62,
   "metadata": {},
   "outputs": [],
   "source": [
    "# Function for calculating the average time of flight as well as the number of flights between two cities in a dataset\n",
    "def calculate_average_time_of_flight(flight_data):\n",
    "    new_df = flight_data.groupby(['Departure', 'Arrival']).agg(\n",
    "        TimeOfFlight=('TimeOfFlight', 'mean'),\n",
    "        Count=('TimeOfFlight', 'count')\n",
    "    ).reset_index()\n",
    "\n",
    "    new_df = new_df.sort_values(['Departure', 'Count'], ascending=[True, False])\n",
    "\n",
    "    return new_df\n",
    "\n",
    "\n",
    "new_dataframe = calculate_average_time_of_flight(df_flightTime)\n",
    "new_dataframe = new_dataframe.reset_index(drop=True) #Just to reset the index to avoid confusion"
   ]
  },
  {
   "cell_type": "code",
   "execution_count": 63,
   "metadata": {},
   "outputs": [
    {
     "data": {
      "text/plain": [
       "['ATL', 'EWR', 'LGA', 'JFK', 'BWI', 'CLT', 'DCA', 'IAH', 'DFW', 'PHL']"
      ]
     },
     "execution_count": 63,
     "metadata": {},
     "output_type": "execute_result"
    }
   ],
   "source": [
    "#Function to find the top ten departure from the given airport\n",
    "def unique_arrival_departure_single(df, airport_name):\n",
    "    \"\"\"\n",
    "    This function takes a pandas DataFrame with 'Departure' and 'Arrival' columns, and the name of an airport.\n",
    "    It returns a list of unique arrival airports for the specified departure airport.\n",
    "    \"\"\"\n",
    "    departure_airports = df[df['Departure'] == airport_name]['Arrival'].unique()[:15] # Used already sorted dataframe and return first 10 unique value\n",
    "    airports_remove= ['MYNN','CYYZ','SJU','SKBO','MUHA','MPTO','MDSD'] # To remove the international destinations from the list\n",
    "    departure_airports = departure_airports.tolist()  # Convert NumPy array to list\n",
    "    for item in airports_remove:\n",
    "      if item in departure_airports:\n",
    "        departure_airports.remove(item)\n",
    "    return list(departure_airports[:10])\n",
    "\n",
    "unique_arrival_departure_single(new_dataframe,'FLL')"
   ]
  },
  {
   "cell_type": "code",
   "execution_count": 64,
   "metadata": {},
   "outputs": [
    {
     "data": {
      "text/html": [
       "<div>\n",
       "<style scoped>\n",
       "    .dataframe tbody tr th:only-of-type {\n",
       "        vertical-align: middle;\n",
       "    }\n",
       "\n",
       "    .dataframe tbody tr th {\n",
       "        vertical-align: top;\n",
       "    }\n",
       "\n",
       "    .dataframe thead th {\n",
       "        text-align: right;\n",
       "    }\n",
       "</style>\n",
       "<table border=\"1\" class=\"dataframe\">\n",
       "  <thead>\n",
       "    <tr style=\"text-align: right;\">\n",
       "      <th></th>\n",
       "      <th>Arrival</th>\n",
       "      <th>TimeOfFlight</th>\n",
       "    </tr>\n",
       "  </thead>\n",
       "  <tbody>\n",
       "    <tr>\n",
       "      <th>0</th>\n",
       "      <td>ATL</td>\n",
       "      <td>2</td>\n",
       "    </tr>\n",
       "    <tr>\n",
       "      <th>1</th>\n",
       "      <td>EWR</td>\n",
       "      <td>3</td>\n",
       "    </tr>\n",
       "    <tr>\n",
       "      <th>2</th>\n",
       "      <td>LGA</td>\n",
       "      <td>2</td>\n",
       "    </tr>\n",
       "    <tr>\n",
       "      <th>3</th>\n",
       "      <td>JFK</td>\n",
       "      <td>2</td>\n",
       "    </tr>\n",
       "    <tr>\n",
       "      <th>4</th>\n",
       "      <td>BWI</td>\n",
       "      <td>3</td>\n",
       "    </tr>\n",
       "    <tr>\n",
       "      <th>5</th>\n",
       "      <td>CLT</td>\n",
       "      <td>2</td>\n",
       "    </tr>\n",
       "    <tr>\n",
       "      <th>6</th>\n",
       "      <td>DCA</td>\n",
       "      <td>3</td>\n",
       "    </tr>\n",
       "    <tr>\n",
       "      <th>7</th>\n",
       "      <td>IAH</td>\n",
       "      <td>2</td>\n",
       "    </tr>\n",
       "    <tr>\n",
       "      <th>8</th>\n",
       "      <td>DFW</td>\n",
       "      <td>2</td>\n",
       "    </tr>\n",
       "    <tr>\n",
       "      <th>9</th>\n",
       "      <td>PHL</td>\n",
       "      <td>2</td>\n",
       "    </tr>\n",
       "  </tbody>\n",
       "</table>\n",
       "</div>"
      ],
      "text/plain": [
       "  Arrival TimeOfFlight\n",
       "0     ATL            2\n",
       "1     EWR            3\n",
       "2     LGA            2\n",
       "3     JFK            2\n",
       "4     BWI            3\n",
       "5     CLT            2\n",
       "6     DCA            3\n",
       "7     IAH            2\n",
       "8     DFW            2\n",
       "9     PHL            2"
      ]
     },
     "execution_count": 64,
     "metadata": {},
     "output_type": "execute_result"
    }
   ],
   "source": [
    "#This function returns the time taken from departure airport to the arrival airports\n",
    "def get_time_of_flight(departure, arrival_list, flight_data):\n",
    "    result_data = pd.DataFrame(columns=['Arrival', 'TimeOfFlight'])\n",
    "    for arrival in arrival_list:\n",
    "        filtered_data = flight_data[(flight_data['Departure'] == departure) & (flight_data['Arrival'] == arrival)]\n",
    "        if not filtered_data.empty:\n",
    "            time_of_flight = filtered_data['TimeOfFlight'].values[0]\n",
    "            result_data = pd.concat([result_data, pd.DataFrame({'Arrival': [arrival], 'TimeOfFlight': [time_of_flight]})], ignore_index=True)\n",
    "    return result_data\n",
    "\n",
    "departure = 'FLL'\n",
    "arrival_list = unique_arrival_departure_single(new_dataframe,'FLL')\n",
    "\n",
    "time_of_flights = get_time_of_flight(departure, arrival_list, df_flightTime)\n",
    "time_of_flights"
   ]
  },
  {
   "cell_type": "code",
   "execution_count": 65,
   "metadata": {},
   "outputs": [
    {
     "data": {
      "text/plain": [
       "[2, 3, 2, 2, 3, 2, 3, 2, 2, 2]"
      ]
     },
     "execution_count": 65,
     "metadata": {},
     "output_type": "execute_result"
    }
   ],
   "source": [
    "#This is the function to return the time duration for the flights between the city pairs\n",
    "def get_time_duration(airports,departure):\n",
    "    time_of_flights = get_time_of_flight(departure, airports, df_flightTime)\n",
    "    # Filter the DataFrame to include only rows with the specified airports\n",
    "    airport_df = time_of_flights[time_of_flights['Arrival'].isin(airports)]\n",
    "\n",
    "    # Return the list of TimeOfFlight values\n",
    "    return airport_df['TimeOfFlight'].tolist()\n",
    "\n",
    "airports_pair_DAB=unique_arrival_departure_single(new_dataframe,'FLL')\n",
    "get_time_duration(airports_pair_DAB,'FLL')"
   ]
  },
  {
   "cell_type": "code",
   "execution_count": 66,
   "metadata": {},
   "outputs": [],
   "source": [
    "def get_other_mean_std(hour, airports):\n",
    "    # Filter the DataFrame to include only rows with the given hour and specified airports\n",
    "    airport_hour_df = df_LookupTable[(df_LookupTable['DATE'].dt.hour == hour) & (df_LookupTable['Airport'].isin(airports))]\n",
    "\n",
    "    # Group the data by airport and hour, and calculate the mean and standard deviation of the 'Other' column\n",
    "    group_mean_std = airport_hour_df.groupby(['Airport', airport_hour_df['DATE'].dt.hour])['Other'].agg(['mean', 'std']).reset_index()\n",
    "\n",
    "    # Return a list of tuples, with each tuple containing airport, mean, and std\n",
    "    return [(airport, mean, std) for airport, mean, std in zip(group_mean_std['Airport'], group_mean_std['mean'], group_mean_std['std'])]"
   ]
  },
  {
   "cell_type": "code",
   "execution_count": 67,
   "metadata": {},
   "outputs": [],
   "source": [
    "#Function to generate the list of time of flights of the pair airports\n",
    "def get_other_mean_std(hours, airports):\n",
    "    result = []\n",
    "\n",
    "    # Iterate over each airport and corresponding hour\n",
    "    for airport, hour in zip(airports, hours):\n",
    "        # Filter the DataFrame to include only rows with the given hour and specified airport\n",
    "        airport_hour_df = df_LookupTable[(df_LookupTable['DATE'].dt.hour == hour) & (df_LookupTable['Airport'] == airport)]\n",
    "\n",
    "        # Group the data by airport and hour, and calculate the mean and standard deviation of the 'Other' column\n",
    "        group_mean_std = airport_hour_df.groupby(['Airport', airport_hour_df['DATE'].dt.hour])['Other'].agg(['mean', 'std']).reset_index()\n",
    "\n",
    "        # Append the airport, mean, and std to the result list\n",
    "        result.extend([(airport, mean, std) for airport, mean, std in zip(group_mean_std['Airport'], group_mean_std['mean'], group_mean_std['std'])])\n",
    "\n",
    "    # Return the result list\n",
    "    return result"
   ]
  },
  {
   "cell_type": "code",
   "execution_count": 72,
   "metadata": {},
   "outputs": [],
   "source": [
    "#Function to print the capability of airport at particular hour of the day\n",
    "def capability_mean_std(airport, hour):\n",
    "    # Filter the DataFrame to include only rows with the given airport and hour\n",
    "    airport_hour_df = df_LookupTable[(df_LookupTable['Airport'] == airport) & (df_LookupTable['DATE'].dt.hour == hour)]\n",
    "\n",
    "    # Check if there is data available\n",
    "    if airport_hour_df.empty:\n",
    "        print(\"No data available for the given airport and hour.\")\n",
    "        return\n",
    "\n",
    "    # Calculate the mean and standard deviation of the 'Other' column\n",
    "    mean = airport_hour_df['Other'].mean()\n",
    "    std = airport_hour_df['Other'].std()\n",
    "\n",
    "    return mean,std"
   ]
  },
  {
   "cell_type": "code",
   "execution_count": 85,
   "metadata": {},
   "outputs": [],
   "source": [
    "def CapabilityForWholeDayGA(hour_departure,departure_airport,airport_pair):\n",
    "  time_flight = get_time_duration(airport_pair,departure_airport) # Finding the duration of flight in hours\n",
    "  hours_arrival=[x+hour_departure for x in time_flight] # Finding the arrival time in the airports\n",
    "  hours_arrival_final = [num % 24 for num in hours_arrival] #Changing the arrival time into suitable format\n",
    "\n",
    "  meanDeparture,stdDeparture= capability_mean_std(departure_airport, hour_departure)\n",
    "  meanRoundoff=round(meanDeparture)\n",
    "  if meanRoundoff==0:\n",
    "    meanRoundoff=1\n",
    "\n",
    "\n",
    "  # Call the function with the hours and airports lists\n",
    "  result = get_other_mean_std(hours_arrival_final, airport_pair)\n",
    "  return result,meanRoundoff"
   ]
  },
  {
   "cell_type": "code",
   "execution_count": 87,
   "metadata": {},
   "outputs": [],
   "source": [
    "departure_airport='DAB'\n",
    "top_ten_airports_pair=unique_arrival_departure_single(new_dataframe,departure_airport)\n",
    "#print(top_ten_airports_pair)\n",
    "hoursBetweenDeparture=1\n",
    "result_list=[]\n",
    "meanCapability_list=[]\n",
    "reward_list=[]\n",
    "best_combination_list=[]\n",
    "for hour in range(0, 24, hoursBetweenDeparture):\n",
    "    result, meanCapability = CapabilityForWholeDayGA(hour, departure_airport, top_ten_airports_pair)\n",
    "    result_list.append(result)\n",
    "    meanCapability_list.append(meanCapability)"
   ]
  },
  {
   "cell_type": "code",
   "execution_count": 77,
   "metadata": {},
   "outputs": [],
   "source": [
    "# Min-max normalization function\n",
    "def min_max_normalize(tensor):\n",
    "    min_value = tensor.min()\n",
    "    max_value = tensor.max()\n",
    "    return (tensor - min_value) / (max_value - min_value)\n",
    "\n",
    "# Function to calculate the reward\n",
    "def calculate_fs(selection_vector,result,meanCapability):\n",
    "    # Convert the result list to tensors for easy manipulation\n",
    "    popularity = torch.tensor([10,9,8,7,6,5,4,3,2,1])\n",
    "    capability = torch.tensor([airport[1] for airport in result])\n",
    "    standard_deviation = torch.tensor([airport[2] for airport in result])\n",
    "\n",
    "    # Min-max normalize the tensors\n",
    "    popularity = min_max_normalize(popularity)\n",
    "    capability = min_max_normalize(capability)\n",
    "    standard_deviation = min_max_normalize(standard_deviation)\n",
    "\n",
    "    selected_airports_capability = torch.sum(capability * selection_vector)\n",
    "    selected_airports_std_dev = torch.sum(standard_deviation * selection_vector)\n",
    "\n",
    "    #Penalty on the basis of total number of flights\n",
    "    rounded_capabilities = []\n",
    "    for item in result:\n",
    "      capability = item[1]\n",
    "      rounded_capability = round(capability)  # Round off to the nearest integer\n",
    "      if rounded_capability == 0:\n",
    "          rounded_capability = 1  # Replace zero with 1\n",
    "      rounded_capabilities.append(rounded_capability)\n",
    "\n",
    "\n",
    "    totalNumberOfFlights = 0\n",
    "\n",
    "    for flag, element in zip(selection_vector, rounded_capabilities):\n",
    "          if flag == 1:\n",
    "            totalNumberOfFlights += element\n",
    "\n",
    "    penalty= torch.tensor(0.0)\n",
    "\n",
    "    if totalNumberOfFlights>=meanCapability:\n",
    "        penalty=torch.tensor(1.0)\n",
    "\n",
    "\n",
    "    reward = 0.5 * torch.sum(popularity * selection_vector) + 0.2 * selected_airports_capability - 0.3 * selected_airports_std_dev - penalty\n",
    "    return reward"
   ]
  },
  {
   "cell_type": "code",
   "execution_count": 91,
   "metadata": {},
   "outputs": [
    {
     "name": "stdout",
     "output_type": "stream",
     "text": [
      "[1.0, 1.0, 1.0, 1.0, 1.0, 1.0, 1.0, 1.0, 1.0, 0.0] 0.6212092638015747\n",
      "[1.0, 1.0, 1.0, 1.0, 1.0, 1.0, 1.0, 1.0, 1.0, 0.0] 1.0239746570587158\n",
      "[1.0, 1.0, 1.0, 1.0, 1.0, 1.0, 1.0, 1.0, 1.0, 0.0] 1.25587797164917\n",
      "[1.0, 1.0, 1.0, 1.0, 1.0, 1.0, 1.0, 1.0, 1.0, 0.0] 0.9223430156707764\n",
      "[1.0, 1.0, 1.0, 1.0, 1.0, 1.0, 1.0, 1.0, 1.0, 0.0] 1.0329489707946777\n",
      "[1.0, 1.0, 1.0, 1.0, 1.0, 1.0, 1.0, 1.0, 1.0, 0.0] 1.0470757484436035\n",
      "[1.0, 1.0, 1.0, 1.0, 1.0, 1.0, 0.0, 0.0, 0.0, 0.0] 0.9184811115264893\n",
      "[1.0, 1.0, 1.0, 1.0, 1.0, 0.0, 0.0, 0.0, 0.0, 0.0] 0.6960614919662476\n",
      "[1.0, 1.0, 1.0, 1.0, 1.0, 0.0, 0.0, 0.0, 0.0, 0.0] 0.6933885812759399\n",
      "[1.0, 1.0, 1.0, 1.0, 1.0, 0.0, 0.0, 0.0, 0.0, 0.0] 1.793950080871582\n",
      "[1.0, 1.0, 1.0, 1.0, 1.0, 1.0, 0.0, 0.0, 0.0, 0.0] 0.756758451461792\n",
      "[1.0, 1.0, 1.0, 1.0, 1.0, 1.0, 0.0, 0.0, 0.0, 0.0] 1.6717100143432617\n",
      "[1.0, 1.0, 1.0, 1.0, 1.0, 1.0, 0.0, 0.0, 0.0, 0.0] 1.716630220413208\n",
      "[1.0, 1.0, 1.0, 1.0, 1.0, 1.0, 0.0, 0.0, 0.0, 0.0] 0.7984466552734375\n",
      "[1.0, 1.0, 1.0, 1.0, 1.0, 1.0, 0.0, 0.0, 0.0, 0.0] 0.8116337060928345\n",
      "[1.0, 1.0, 1.0, 1.0, 1.0, 1.0, 0.0, 0.0, 0.0, 0.0] 1.7857338190078735\n",
      "[1.0, 1.0, 1.0, 1.0, 1.0, 1.0, 0.0, 0.0, 0.0, 0.0] 1.887810230255127\n",
      "[1.0, 1.0, 1.0, 1.0, 1.0, 0.0, 0.0, 0.0, 0.0, 0.0] 1.6510260105133057\n",
      "[1.0, 1.0, 1.0, 1.0, 1.0, 0.0, 0.0, 0.0, 0.0, 0.0] 1.7309647798538208\n",
      "[1.0, 1.0, 1.0, 1.0, 1.0, 0.0, 0.0, 0.0, 0.0, 0.0] 1.6627955436706543\n",
      "[1.0, 1.0, 1.0, 1.0, 1.0, 0.0, 0.0, 0.0, 0.0, 0.0] 1.6525728702545166\n",
      "[1.0, 1.0, 1.0, 1.0, 1.0, 0.0, 0.0, 0.0, 0.0, 0.0] 1.7963409423828125\n",
      "[1.0, 1.0, 1.0, 1.0, 1.0, 1.0, 1.0, 0.0, 0.0, 0.0] 0.84832763671875\n",
      "[1.0, 1.0, 1.0, 1.0, 1.0, 1.0, 1.0, 0.0, 0.0, 0.0] 0.9737069606781006\n"
     ]
    }
   ],
   "source": [
    "fs_list=[]\n",
    "for i in range(len(output_list)):\n",
    "  fs = calculate_fs(torch.tensor(output_list[i]), result_list[i], meanCapability_list[i])\n",
    "  fs_list.append(fs)\n",
    "  print(f\"{output_list[i]} {fs}\")"
   ]
  },
  {
   "cell_type": "code",
   "execution_count": 92,
   "metadata": {},
   "outputs": [
    {
     "data": {
      "text/plain": [
       "[0.6212092638015747,\n",
       " 1.0239746570587158,\n",
       " 1.25587797164917,\n",
       " 0.9223430156707764,\n",
       " 1.0329489707946777,\n",
       " 1.0470757484436035,\n",
       " 0.9184811115264893,\n",
       " 0.6960614919662476,\n",
       " 0.6933885812759399,\n",
       " 1.793950080871582,\n",
       " 0.756758451461792,\n",
       " 1.6717100143432617,\n",
       " 1.716630220413208,\n",
       " 0.7984466552734375,\n",
       " 0.8116337060928345,\n",
       " 1.7857338190078735,\n",
       " 1.887810230255127,\n",
       " 1.6510260105133057,\n",
       " 1.7309647798538208,\n",
       " 1.6627955436706543,\n",
       " 1.6525728702545166,\n",
       " 1.7963409423828125,\n",
       " 0.84832763671875,\n",
       " 0.9737069606781006]"
      ]
     },
     "execution_count": 92,
     "metadata": {},
     "output_type": "execute_result"
    }
   ],
   "source": [
    "[fs.item() for fs in fs_list]"
   ]
  },
  {
   "cell_type": "code",
   "execution_count": 84,
   "metadata": {},
   "outputs": [],
   "source": [
    "# This is the fitness score predicted by the various Neural Network model trained under the different number of epochs\n",
    "# We can obtain this by changing the numbe of epochs and training the model and finally using the model for prediction\n",
    "# Variou models trained under different number of epochs are in folder models which can be directly used to get the results as well\n",
    "\n",
    "# Trained for 5 epochs\n",
    "fs_5=[0.6212092638015747, 1.0239746570587158, 1.25587797164917, 0.9223430156707764, 1.0329489707946777, 1.0470757484436035, 0.9184811115264893, 0.6960614919662476, 0.6933885812759399, 1.793950080871582, 0.756758451461792, 1.6717100143432617, 1.716630220413208, 0.7984466552734375, 0.8116337060928345, 1.7857338190078735, 1.887810230255127, 1.6510260105133057, 1.7309647798538208, 1.6627955436706543, 1.6525728702545166, 1.7963409423828125, 0.84832763671875, 0.9737069606781006]\n",
    "\n",
    "#Trained for 15 epochs\n",
    "fs_15=[0.6212092638015747, 1.0239746570587158, 1.25587797164917, 0.9223430156707764, 1.0329489707946777, 1.0470757484436035, 0.7405339479446411, 0.6960614919662476, 0.6933885812759399, 1.793950080871582, 1.7207224369049072, 1.6404964923858643, 1.6500883102416992, 0.6965692043304443, 1.7152032852172852, 1.7126290798187256, 1.712332010269165, 1.6510260105133057, 1.7309647798538208, 1.6627955436706543, 1.6525728702545166, 1.7963409423828125, 1.6198214292526245, 0.7079417705535889]\n",
    "\n",
    "\n",
    "#Trained for 25 epochs\n",
    "fs_25=[0.6212092638015747, 1.0239746570587158, 1.25587797164917, 0.9223430156707764, 1.0329489707946777, 1.0470757484436035, 0.6019701957702637, 1.636925458908081, 1.572135090827942, 1.5328603982925415, 1.5234249830245972, 1.4278795719146729, 1.4832966327667236, 1.5651130676269531, 1.556949496269226, 1.5000004768371582, 1.6428711414337158, 1.4874745607376099, 1.5744165182113647, 1.5573570728302002, 1.5555081367492676, 1.6996312141418457, 1.3982652425765991, 0.8155604600906372]\n",
    "\n"
   ]
  },
  {
   "cell_type": "code",
   "execution_count": 83,
   "metadata": {},
   "outputs": [
    {
     "data": {
      "image/png": "[encoded data removed]",
      "text/plain": [
       "<Figure size 1000x600 with 1 Axes>"
      ]
     },
     "metadata": {},
     "output_type": "display_data"
    }
   ],
   "source": [
    "import matplotlib.pyplot as plt\n",
    "# Define the hours of the day for the x-axis\n",
    "hours_of_day = list(range(1, 25))\n",
    "\n",
    "# Plot the rewards\n",
    "plt.figure(figsize=(10, 6))\n",
    "plt.plot(hours_of_day, fs_5, label='fs_5', marker='o')\n",
    "plt.plot(hours_of_day, fs_15, label='fs_15', marker='o')\n",
    "plt.plot(hours_of_day, fs_25, label='fs_25', marker='o')\n",
    "plt.xlabel('Hour of the Day')\n",
    "plt.ylabel('Fitness Score')\n",
    "plt.title('Fitness Score for Different Configurations Throughout the Day')\n",
    "plt.legend()\n",
    "plt.grid(True)\n",
    "plt.xticks(hours_of_day)\n",
    "plt.show()"
   ]
  }
 ],
 "metadata": {
  "kernelspec": {
   "display_name": "CAIvenv",
   "language": "python",
   "name": "python3"
  },
  "language_info": {
   "codemirror_mode": {
    "name": "ipython",
    "version": 3
   },
   "file_extension": ".py",
   "mimetype": "text/x-python",
   "name": "python",
   "nbconvert_exporter": "python",
   "pygments_lexer": "ipython3",
   "version": "3.11.3"
  }
 },
 "nbformat": 4,
 "nbformat_minor": 2
}
